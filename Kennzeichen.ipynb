{
 "cells": [
  {
   "cell_type": "code",
   "execution_count": 1,
   "id": "bdf310a5",
   "metadata": {},
   "outputs": [],
   "source": [
    "# Configuration\n",
    "\n",
    "# Should we use the full dictionary with conjugated verbs & declined nouns or use only the root forms of words?\n",
    "use_full_dictionary = False"
   ]
  },
  {
   "cell_type": "code",
   "execution_count": 2,
   "id": "50f01033",
   "metadata": {},
   "outputs": [],
   "source": [
    "from itertools import product\n",
    "from collections import defaultdict"
   ]
  },
  {
   "cell_type": "code",
   "execution_count": 3,
   "id": "6b844b40",
   "metadata": {},
   "outputs": [],
   "source": [
    "with open(\"Landkreise.txt\", \"r\") as file:\n",
    "    landkreise = {line.split(\";\")[0]: line.split(\";\")[1].strip() for line in file.read().splitlines()}"
   ]
  },
  {
   "cell_type": "code",
   "execution_count": 4,
   "id": "0334434c",
   "metadata": {},
   "outputs": [],
   "source": [
    "# generate dictionary of valid german words\n",
    "\n",
    "! aspell -d de_DE dump master | aspell -l de_DE expand > ./aspell.dic"
   ]
  },
  {
   "cell_type": "code",
   "execution_count": 5,
   "id": "c06df33b",
   "metadata": {},
   "outputs": [],
   "source": [
    "letters = set(\"ABCDEFGHIJKLMNOPQRSTUVWXYZ\")\n",
    "second_part = list(letters) + [\"\".join(x) for x in product(letters, repeat=2)]"
   ]
  },
  {
   "cell_type": "code",
   "execution_count": 6,
   "id": "d45c1545",
   "metadata": {},
   "outputs": [],
   "source": [
    "# aspell dict without declination/conjugation\n",
    "with open(\"aspell.dic\", \"r\") as file:\n",
    "    if use_full_dictionary:\n",
    "        # use the whole column (conjugated / declined variants of the words)\n",
    "        german_words = file.read().replace(\" \", \"\\n\").split(\"\\n\")\n",
    "    else:\n",
    "        # Use only the first word in each column\n",
    "        german_words = [line.split()[0] for line in file.read().splitlines()]\n",
    "    german_words = set(map(str.upper, german_words))"
   ]
  },
  {
   "cell_type": "code",
   "execution_count": 9,
   "id": "d172d100",
   "metadata": {},
   "outputs": [],
   "source": [
    "possible_plates = [\"\".join(x) for x in product(landkreise, second_part)]"
   ]
  },
  {
   "cell_type": "code",
   "execution_count": 10,
   "id": "5cdaea23",
   "metadata": {},
   "outputs": [],
   "source": [
    "valid_word_plates = [x for x in possible_plates if x in german_words]"
   ]
  },
  {
   "cell_type": "code",
   "execution_count": 11,
   "id": "e00c99c9",
   "metadata": {},
   "outputs": [],
   "source": [
    "words_by_landkreis = defaultdict(list)\n",
    "for first in landkreise.keys():\n",
    "    for word in set(valid_word_plates):\n",
    "        if word.startswith(first) and len(first) + 1 <= len(word) <= len(first) + 2:\n",
    "            words_by_landkreis[first].append(word)"
   ]
  },
  {
   "cell_type": "code",
   "execution_count": 12,
   "id": "6f3995cb",
   "metadata": {},
   "outputs": [],
   "source": [
    "amount_by_landkreis = {k: len(v) for (k, v) in words_by_landkreis.items()}"
   ]
  },
  {
   "cell_type": "code",
   "execution_count": null,
   "id": "b559f616",
   "metadata": {},
   "outputs": [],
   "source": []
  }
 ],
 "metadata": {
  "kernelspec": {
   "display_name": "Python 3",
   "language": "python",
   "name": "python3"
  },
  "language_info": {
   "codemirror_mode": {
    "name": "ipython",
    "version": 3
   },
   "file_extension": ".py",
   "mimetype": "text/x-python",
   "name": "python",
   "nbconvert_exporter": "python",
   "pygments_lexer": "ipython3",
   "version": "3.9.1"
  }
 },
 "nbformat": 4,
 "nbformat_minor": 5
}
